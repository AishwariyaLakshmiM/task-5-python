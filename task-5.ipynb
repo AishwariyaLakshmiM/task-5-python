{
 "cells": [
  {
   "cell_type": "code",
   "execution_count": 2,
   "id": "f1d7258f-d6cf-4aae-8011-5d42dbf6f434",
   "metadata": {},
   "outputs": [],
   "source": [
    "import tkinter as tk\n",
    "from tkinter import ttk\n",
    "import requests\n",
    "\n",
    "# Function to fetch exchange rates\n",
    "def get_exchange_rate(currency):\n",
    "    url = f\"https://api.exchangerate-api.com/v4/latest/USD\"\n",
    "    response = requests.get(url)\n",
    "    rates = response.json().get(\"rates\")\n",
    "    return rates.get(currency, None)\n",
    "\n",
    "# Conversion function\n",
    "def convert_currency():\n",
    "    usd_amount = float(usd_entry.get())\n",
    "    target_currency = currency_var.get()\n",
    "    exchange_rate = get_exchange_rate(target_currency)\n",
    "    \n",
    "    if exchange_rate:\n",
    "        converted_amount = usd_amount * exchange_rate\n",
    "        result_label.config(text=f\"{usd_amount} USD = {converted_amount:.2f} {target_currency}\")\n",
    "    else:\n",
    "        result_label.config(text=\"Error: Invalid currency selected.\")\n",
    "\n",
    "# Create main window\n",
    "root = tk.Tk()\n",
    "root.title(\"USD Currency Converter\")\n",
    "\n",
    "# USD input field\n",
    "usd_label = tk.Label(root, text=\"USD Amount:\")\n",
    "usd_label.grid(column=0, row=0)\n",
    "usd_entry = tk.Entry(root)\n",
    "usd_entry.grid(column=1, row=0)\n",
    "\n",
    "# Currency dropdown\n",
    "currency_var = tk.StringVar(root)\n",
    "currency_var.set(\"Select Currency\")\n",
    "currencies = [\"EUR\", \"GBP\", \"INR\", \"AUD\", \"CAD\", \"JPY\"]  # Add more currencies as needed\n",
    "currency_menu = ttk.Combobox(root, textvariable=currency_var, values=currencies)\n",
    "currency_menu.grid(column=1, row=1)\n",
    "\n",
    "# Convert button\n",
    "convert_button = tk.Button(root, text=\"Convert\", command=convert_currency)\n",
    "convert_button.grid(column=0, row=2)\n",
    "\n",
    "# Result label\n",
    "result_label = tk.Label(root, text=\"Converted amount will appear here.\")\n",
    "result_label.grid(column=0, row=3, columnspan=2)\n",
    "\n",
    "# Run the application\n",
    "root.mainloop()\n"
   ]
  },
  {
   "cell_type": "code",
   "execution_count": null,
   "id": "3c57308b-977f-44a4-8cb3-3a4bebb7b539",
   "metadata": {},
   "outputs": [],
   "source": []
  }
 ],
 "metadata": {
  "kernelspec": {
   "display_name": "Python 3 (ipykernel)",
   "language": "python",
   "name": "python3"
  },
  "language_info": {
   "codemirror_mode": {
    "name": "ipython",
    "version": 3
   },
   "file_extension": ".py",
   "mimetype": "text/x-python",
   "name": "python",
   "nbconvert_exporter": "python",
   "pygments_lexer": "ipython3",
   "version": "3.12.4"
  }
 },
 "nbformat": 4,
 "nbformat_minor": 5
}
